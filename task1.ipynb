{
 "cells": [
  {
   "cell_type": "code",
   "execution_count": 1,
   "id": "e111a644",
   "metadata": {},
   "outputs": [
    {
     "name": "stdout",
     "output_type": "stream",
     "text": [
      "Requirement already satisfied: scikit-learn in c:\\users\\manthan\\appdata\\local\\programs\\python\\python313\\lib\\site-packages (1.7.2)\n",
      "Requirement already satisfied: numpy>=1.22.0 in c:\\users\\manthan\\appdata\\local\\programs\\python\\python313\\lib\\site-packages (from scikit-learn) (2.2.3)\n",
      "Requirement already satisfied: scipy>=1.8.0 in c:\\users\\manthan\\appdata\\local\\programs\\python\\python313\\lib\\site-packages (from scikit-learn) (1.16.2)\n",
      "Requirement already satisfied: joblib>=1.2.0 in c:\\users\\manthan\\appdata\\local\\programs\\python\\python313\\lib\\site-packages (from scikit-learn) (1.5.2)\n",
      "Requirement already satisfied: threadpoolctl>=3.1.0 in c:\\users\\manthan\\appdata\\local\\programs\\python\\python313\\lib\\site-packages (from scikit-learn) (3.6.0)\n",
      "Requirement already satisfied: imbalanced-learn in c:\\users\\manthan\\appdata\\local\\programs\\python\\python313\\lib\\site-packages (0.14.0)\n",
      "Requirement already satisfied: numpy<3,>=1.25.2 in c:\\users\\manthan\\appdata\\local\\programs\\python\\python313\\lib\\site-packages (from imbalanced-learn) (2.2.3)\n",
      "Requirement already satisfied: scipy<2,>=1.11.4 in c:\\users\\manthan\\appdata\\local\\programs\\python\\python313\\lib\\site-packages (from imbalanced-learn) (1.16.2)\n",
      "Requirement already satisfied: scikit-learn<2,>=1.4.2 in c:\\users\\manthan\\appdata\\local\\programs\\python\\python313\\lib\\site-packages (from imbalanced-learn) (1.7.2)\n",
      "Requirement already satisfied: joblib<2,>=1.2.0 in c:\\users\\manthan\\appdata\\local\\programs\\python\\python313\\lib\\site-packages (from imbalanced-learn) (1.5.2)\n",
      "Requirement already satisfied: threadpoolctl<4,>=2.0.0 in c:\\users\\manthan\\appdata\\local\\programs\\python\\python313\\lib\\site-packages (from imbalanced-learn) (3.6.0)\n"
     ]
    }
   ],
   "source": [
    "!pip install scikit-learn\n",
    "!pip install imbalanced-learn\n"
   ]
  },
  {
   "cell_type": "code",
   "execution_count": 2,
   "id": "18ddabbe",
   "metadata": {},
   "outputs": [],
   "source": [
    "import numpy as np\n",
    "\n",
    "from datetime import datetime\n",
    "import pandas as pd\n",
    "import seaborn as sns\n",
    "import matplotlib.pyplot as plt\n",
    "from sklearn.model_selection import train_test_split \n"
   ]
  },
  {
   "cell_type": "code",
   "execution_count": 3,
   "id": "20f55622",
   "metadata": {},
   "outputs": [],
   "source": [
    "from imblearn.over_sampling import SMOTE\n"
   ]
  },
  {
   "cell_type": "code",
   "execution_count": 4,
   "id": "7dbb7ed3",
   "metadata": {},
   "outputs": [],
   "source": [
    "df = pd.read_csv('C:/Users/MANTHAN/Desktop/compute_tasks/dataset_task1.csv')\n"
   ]
  },
  {
   "cell_type": "code",
   "execution_count": 5,
   "id": "481c4d81",
   "metadata": {},
   "outputs": [],
   "source": [
    "df = df.drop(columns=['PaperlessBilling'])\n",
    "df = df.drop(columns=['customerID'])\n",
    "df = df.drop(columns=['gender'])\n",
    "df = df.drop(columns=['Partner']) \n",
    "df = df.drop(columns=['Dependents'])\n",
    "df = df.drop_duplicates()"
   ]
  },
  {
   "cell_type": "code",
   "execution_count": 6,
   "id": "3c9b3bf9",
   "metadata": {},
   "outputs": [],
   "source": [
    "# Replace with \"Automatic\"\n",
    "df['PaymentMethod'] = df['PaymentMethod'].replace(\n",
    "    ['Bank transfer (automatic)', 'Credit card (automatic)'], \n",
    "    'Automatic'\n",
    ")\n",
    "df['PaymentMethod'] = df['PaymentMethod'].str.lower().str.replace(' ', '_')\n"
   ]
  },
  {
   "cell_type": "code",
   "execution_count": 7,
   "id": "cdb64548",
   "metadata": {},
   "outputs": [
    {
     "name": "stdout",
     "output_type": "stream",
     "text": [
      "SeniorCitizen       0\n",
      "tenure              0\n",
      "PhoneService        0\n",
      "MultipleLines       0\n",
      "InternetService     0\n",
      "OnlineSecurity      0\n",
      "OnlineBackup        0\n",
      "DeviceProtection    0\n",
      "TechSupport         0\n",
      "StreamingTV         0\n",
      "StreamingMovies     0\n",
      "Contract            0\n",
      "PaymentMethod       0\n",
      "MonthlyCharges      0\n",
      "TotalCharges        0\n",
      "Churn               0\n",
      "dtype: int64\n"
     ]
    }
   ],
   "source": [
    "print(df.isnull().sum())"
   ]
  },
  {
   "cell_type": "code",
   "execution_count": 8,
   "id": "e5a00231",
   "metadata": {},
   "outputs": [],
   "source": [
    "num_cols = df.select_dtypes(include=['float64','int64']).columns\n"
   ]
  },
  {
   "cell_type": "code",
   "execution_count": 9,
   "id": "7b73ba15",
   "metadata": {},
   "outputs": [],
   "source": [
    "# Map Yes → 1, No → 0\n",
    "df['PhoneService'] = df['PhoneService'].map({'Yes': 1, 'No': 0})\n"
   ]
  },
  {
   "cell_type": "code",
   "execution_count": 10,
   "id": "a0145fff",
   "metadata": {},
   "outputs": [],
   "source": [
    "df['MultipleLines'] = df['MultipleLines'].replace('No phone service', 'No')\n",
    "df['MultipleLines'] = df['MultipleLines'].map({'Yes': 1, 'No': 0})\n"
   ]
  },
  {
   "cell_type": "code",
   "execution_count": 11,
   "id": "c41dbe07",
   "metadata": {},
   "outputs": [],
   "source": [
    "# Mapping categories to numbers (encoding)\n",
    "df['InternetService'] = df['InternetService'].map({\n",
    "    'No': 0,\n",
    "    'DSL': 1,\n",
    "    'Fiber optic': 2\n",
    "})\n",
    "\n",
    "service_cols = ['OnlineSecurity', 'OnlineBackup', 'DeviceProtection', \n",
    "                'TechSupport', 'StreamingTV', 'StreamingMovies']\n",
    "\n",
    "for col in service_cols:\n",
    "    df[col] = df[col].map({'Yes': 1, 'No': 0, 'No internet service': 0})\n",
    "\n"
   ]
  },
  {
   "cell_type": "code",
   "execution_count": null,
   "id": "a955c17a",
   "metadata": {},
   "outputs": [],
   "source": []
  },
  {
   "cell_type": "code",
   "execution_count": 12,
   "id": "6e33db07",
   "metadata": {},
   "outputs": [],
   "source": [
    "# Map Contract to numeric\n",
    "df['Contract'] = df['Contract'].map({\n",
    "    'Month-to-month': 0,\n",
    "    'One year': 1,\n",
    "    'Two year': 2\n",
    "}).astype(int)\n"
   ]
  },
  {
   "cell_type": "code",
   "execution_count": 13,
   "id": "e5905d56",
   "metadata": {},
   "outputs": [
    {
     "name": "stdout",
     "output_type": "stream",
     "text": [
      "Churn\n",
      "No     5135\n",
      "Yes    1822\n",
      "Name: count, dtype: int64\n",
      "Imbalance Ratio: 0.3548198636806232\n"
     ]
    }
   ],
   "source": [
    "class_counts = df['Churn'].value_counts()\n",
    "print(class_counts)\n",
    "\n",
    "imbalance_ratio = class_counts.min() / class_counts.max()\n",
    "print(\"Imbalance Ratio:\", imbalance_ratio)\n"
   ]
  },
  {
   "cell_type": "code",
   "execution_count": 14,
   "id": "92c131d1",
   "metadata": {},
   "outputs": [],
   "source": [
    "df['NoInternetNoPhoneFlag'] = ((df['InternetService'] == 0) & (df['PhoneService'] == 0)).astype(int)\n",
    "\n",
    "\n",
    "median_charges = df['MonthlyCharges'].median()\n",
    "df['HighChargesFlag'] = (df['MonthlyCharges'] > median_charges).astype(int)\n",
    "\n",
    "\n",
    "service_cols = ['OnlineSecurity','OnlineBackup','DeviceProtection',\n",
    "                'TechSupport','StreamingTV','StreamingMovies']\n",
    "\n",
    "df['NumServices'] = df[service_cols].sum(axis=1)\n"
   ]
  },
  {
   "cell_type": "code",
   "execution_count": 15,
   "id": "0a8fe641",
   "metadata": {},
   "outputs": [
    {
     "name": "stdout",
     "output_type": "stream",
     "text": [
      "Missing values in PaymentMethod: 0\n"
     ]
    }
   ],
   "source": [
    "missing_count = df['PaymentMethod'].isnull().sum()\n",
    "print(\"Missing values in PaymentMethod:\", missing_count)"
   ]
  },
  {
   "cell_type": "code",
   "execution_count": 16,
   "id": "ff048b46",
   "metadata": {},
   "outputs": [],
   "source": [
    "df['PaymentMethod'] = df['PaymentMethod'].map({\n",
    "    'automatic': 0,\n",
    "    'mailed_check': 1,\n",
    "    'electronic_check': 2\n",
    "}).astype(int)"
   ]
  },
  {
   "cell_type": "code",
   "execution_count": 17,
   "id": "6bd0aa64",
   "metadata": {},
   "outputs": [
    {
     "name": "stdout",
     "output_type": "stream",
     "text": [
      "   SeniorCitizen  tenure  PhoneService  MultipleLines  InternetService  \\\n",
      "0              0       1             0              0                1   \n",
      "1              0      34             1              0                1   \n",
      "2              0       2             1              0                1   \n",
      "3              0      45             0              0                1   \n",
      "4              0       2             1              0                2   \n",
      "\n",
      "   OnlineSecurity  OnlineBackup  DeviceProtection  TechSupport  StreamingTV  \\\n",
      "0               0             1                 0            0            0   \n",
      "1               1             0                 1            0            0   \n",
      "2               1             1                 0            0            0   \n",
      "3               1             0                 1            1            0   \n",
      "4               0             0                 0            0            0   \n",
      "\n",
      "   StreamingMovies  Contract  PaymentMethod  MonthlyCharges TotalCharges  \\\n",
      "0                0         0              2           29.85        29.85   \n",
      "1                0         1              1           56.95       1889.5   \n",
      "2                0         0              1           53.85       108.15   \n",
      "3                0         1              0           42.30      1840.75   \n",
      "4                0         0              2           70.70       151.65   \n",
      "\n",
      "   Churn  NoInternetNoPhoneFlag  HighChargesFlag  NumServices  \n",
      "0      0                      0                0            1  \n",
      "1      0                      0                0            2  \n",
      "2      1                      0                0            2  \n",
      "3      0                      0                0            3  \n",
      "4      1                      0                1            0  \n"
     ]
    }
   ],
   "source": [
    "df[\"Churn\"] = df[\"Churn\"].map({'Yes': 1, 'No': 0})\n",
    "print(df.head())\n"
   ]
  },
  {
   "cell_type": "code",
   "execution_count": 18,
   "id": "afda6e33",
   "metadata": {},
   "outputs": [],
   "source": [
    "df = df.drop(columns=['NoInternetNoPhoneFlag'])"
   ]
  },
  {
   "cell_type": "code",
   "execution_count": 19,
   "id": "3db4b8a9",
   "metadata": {},
   "outputs": [
    {
     "name": "stdout",
     "output_type": "stream",
     "text": [
      "SeniorCitizen         int64\n",
      "tenure                int64\n",
      "PhoneService          int64\n",
      "MultipleLines         int64\n",
      "InternetService       int64\n",
      "OnlineSecurity        int64\n",
      "OnlineBackup          int64\n",
      "DeviceProtection      int64\n",
      "TechSupport           int64\n",
      "StreamingTV           int64\n",
      "StreamingMovies       int64\n",
      "Contract              int64\n",
      "PaymentMethod         int64\n",
      "MonthlyCharges      float64\n",
      "TotalCharges         object\n",
      "Churn                 int64\n",
      "HighChargesFlag       int64\n",
      "NumServices           int64\n",
      "dtype: object\n"
     ]
    }
   ],
   "source": [
    "\n",
    "# Verify\n",
    "print(df.dtypes)\n"
   ]
  },
  {
   "cell_type": "code",
   "execution_count": 20,
   "id": "17caf4d8",
   "metadata": {},
   "outputs": [
    {
     "name": "stdout",
     "output_type": "stream",
     "text": [
      "11\n",
      "0\n",
      "object\n"
     ]
    }
   ],
   "source": [
    "df['TotalCharges'] = df['TotalCharges'].replace(' ',np.nan)\n",
    "print(df['TotalCharges'].isna().sum())\n",
    "\n",
    "df = df.dropna(subset=['TotalCharges'])\n",
    "print(df['TotalCharges'].isna().sum())\n",
    "\n",
    "\n",
    "\n",
    "print(df['TotalCharges'].dtypes)"
   ]
  },
  {
   "cell_type": "code",
   "execution_count": 21,
   "id": "c23b8be0",
   "metadata": {},
   "outputs": [
    {
     "name": "stdout",
     "output_type": "stream",
     "text": [
      "SeniorCitizen         int64\n",
      "tenure                int64\n",
      "PhoneService          int64\n",
      "MultipleLines         int64\n",
      "InternetService       int64\n",
      "OnlineSecurity        int64\n",
      "OnlineBackup          int64\n",
      "DeviceProtection      int64\n",
      "TechSupport           int64\n",
      "StreamingTV           int64\n",
      "StreamingMovies       int64\n",
      "Contract              int64\n",
      "PaymentMethod         int64\n",
      "MonthlyCharges      float64\n",
      "TotalCharges         object\n",
      "Churn                 int64\n",
      "HighChargesFlag       int64\n",
      "NumServices           int64\n",
      "dtype: object\n"
     ]
    }
   ],
   "source": [
    "print(df.dtypes)"
   ]
  },
  {
   "cell_type": "code",
   "execution_count": 22,
   "id": "1200bd58",
   "metadata": {},
   "outputs": [
    {
     "name": "stdout",
     "output_type": "stream",
     "text": [
      "SeniorCitizen       float64\n",
      "tenure              float64\n",
      "PhoneService        float64\n",
      "MultipleLines       float64\n",
      "InternetService     float64\n",
      "OnlineSecurity      float64\n",
      "OnlineBackup        float64\n",
      "DeviceProtection    float64\n",
      "TechSupport         float64\n",
      "StreamingTV         float64\n",
      "StreamingMovies     float64\n",
      "Contract            float64\n",
      "PaymentMethod       float64\n",
      "MonthlyCharges      float64\n",
      "TotalCharges        float64\n",
      "Churn               float64\n",
      "HighChargesFlag     float64\n",
      "NumServices         float64\n",
      "dtype: object\n"
     ]
    }
   ],
   "source": [
    " df = df.astype(float)\n",
    " print(df.dtypes)\n"
   ]
  },
  {
   "cell_type": "code",
   "execution_count": 23,
   "id": "0840a80d",
   "metadata": {},
   "outputs": [
    {
     "data": {
      "text/html": [
       "<div>\n",
       "<style scoped>\n",
       "    .dataframe tbody tr th:only-of-type {\n",
       "        vertical-align: middle;\n",
       "    }\n",
       "\n",
       "    .dataframe tbody tr th {\n",
       "        vertical-align: top;\n",
       "    }\n",
       "\n",
       "    .dataframe thead th {\n",
       "        text-align: right;\n",
       "    }\n",
       "</style>\n",
       "<table border=\"1\" class=\"dataframe\">\n",
       "  <thead>\n",
       "    <tr style=\"text-align: right;\">\n",
       "      <th></th>\n",
       "      <th>SeniorCitizen</th>\n",
       "      <th>tenure</th>\n",
       "      <th>PhoneService</th>\n",
       "      <th>MultipleLines</th>\n",
       "      <th>InternetService</th>\n",
       "      <th>OnlineSecurity</th>\n",
       "      <th>OnlineBackup</th>\n",
       "      <th>DeviceProtection</th>\n",
       "      <th>TechSupport</th>\n",
       "      <th>StreamingTV</th>\n",
       "      <th>StreamingMovies</th>\n",
       "      <th>Contract</th>\n",
       "      <th>PaymentMethod</th>\n",
       "      <th>MonthlyCharges</th>\n",
       "      <th>TotalCharges</th>\n",
       "      <th>Churn</th>\n",
       "      <th>HighChargesFlag</th>\n",
       "      <th>NumServices</th>\n",
       "    </tr>\n",
       "  </thead>\n",
       "  <tbody>\n",
       "    <tr>\n",
       "      <th>0</th>\n",
       "      <td>0.0</td>\n",
       "      <td>1.0</td>\n",
       "      <td>0.0</td>\n",
       "      <td>0.0</td>\n",
       "      <td>1.0</td>\n",
       "      <td>0.0</td>\n",
       "      <td>1.0</td>\n",
       "      <td>0.0</td>\n",
       "      <td>0.0</td>\n",
       "      <td>0.0</td>\n",
       "      <td>0.0</td>\n",
       "      <td>0.0</td>\n",
       "      <td>2.0</td>\n",
       "      <td>29.85</td>\n",
       "      <td>29.85</td>\n",
       "      <td>0.0</td>\n",
       "      <td>0.0</td>\n",
       "      <td>1.0</td>\n",
       "    </tr>\n",
       "    <tr>\n",
       "      <th>1</th>\n",
       "      <td>0.0</td>\n",
       "      <td>34.0</td>\n",
       "      <td>1.0</td>\n",
       "      <td>0.0</td>\n",
       "      <td>1.0</td>\n",
       "      <td>1.0</td>\n",
       "      <td>0.0</td>\n",
       "      <td>1.0</td>\n",
       "      <td>0.0</td>\n",
       "      <td>0.0</td>\n",
       "      <td>0.0</td>\n",
       "      <td>1.0</td>\n",
       "      <td>1.0</td>\n",
       "      <td>56.95</td>\n",
       "      <td>1889.50</td>\n",
       "      <td>0.0</td>\n",
       "      <td>0.0</td>\n",
       "      <td>2.0</td>\n",
       "    </tr>\n",
       "    <tr>\n",
       "      <th>2</th>\n",
       "      <td>0.0</td>\n",
       "      <td>2.0</td>\n",
       "      <td>1.0</td>\n",
       "      <td>0.0</td>\n",
       "      <td>1.0</td>\n",
       "      <td>1.0</td>\n",
       "      <td>1.0</td>\n",
       "      <td>0.0</td>\n",
       "      <td>0.0</td>\n",
       "      <td>0.0</td>\n",
       "      <td>0.0</td>\n",
       "      <td>0.0</td>\n",
       "      <td>1.0</td>\n",
       "      <td>53.85</td>\n",
       "      <td>108.15</td>\n",
       "      <td>1.0</td>\n",
       "      <td>0.0</td>\n",
       "      <td>2.0</td>\n",
       "    </tr>\n",
       "    <tr>\n",
       "      <th>3</th>\n",
       "      <td>0.0</td>\n",
       "      <td>45.0</td>\n",
       "      <td>0.0</td>\n",
       "      <td>0.0</td>\n",
       "      <td>1.0</td>\n",
       "      <td>1.0</td>\n",
       "      <td>0.0</td>\n",
       "      <td>1.0</td>\n",
       "      <td>1.0</td>\n",
       "      <td>0.0</td>\n",
       "      <td>0.0</td>\n",
       "      <td>1.0</td>\n",
       "      <td>0.0</td>\n",
       "      <td>42.30</td>\n",
       "      <td>1840.75</td>\n",
       "      <td>0.0</td>\n",
       "      <td>0.0</td>\n",
       "      <td>3.0</td>\n",
       "    </tr>\n",
       "    <tr>\n",
       "      <th>4</th>\n",
       "      <td>0.0</td>\n",
       "      <td>2.0</td>\n",
       "      <td>1.0</td>\n",
       "      <td>0.0</td>\n",
       "      <td>2.0</td>\n",
       "      <td>0.0</td>\n",
       "      <td>0.0</td>\n",
       "      <td>0.0</td>\n",
       "      <td>0.0</td>\n",
       "      <td>0.0</td>\n",
       "      <td>0.0</td>\n",
       "      <td>0.0</td>\n",
       "      <td>2.0</td>\n",
       "      <td>70.70</td>\n",
       "      <td>151.65</td>\n",
       "      <td>1.0</td>\n",
       "      <td>1.0</td>\n",
       "      <td>0.0</td>\n",
       "    </tr>\n",
       "  </tbody>\n",
       "</table>\n",
       "</div>"
      ],
      "text/plain": [
       "   SeniorCitizen  tenure  PhoneService  MultipleLines  InternetService  \\\n",
       "0            0.0     1.0           0.0            0.0              1.0   \n",
       "1            0.0    34.0           1.0            0.0              1.0   \n",
       "2            0.0     2.0           1.0            0.0              1.0   \n",
       "3            0.0    45.0           0.0            0.0              1.0   \n",
       "4            0.0     2.0           1.0            0.0              2.0   \n",
       "\n",
       "   OnlineSecurity  OnlineBackup  DeviceProtection  TechSupport  StreamingTV  \\\n",
       "0             0.0           1.0               0.0          0.0          0.0   \n",
       "1             1.0           0.0               1.0          0.0          0.0   \n",
       "2             1.0           1.0               0.0          0.0          0.0   \n",
       "3             1.0           0.0               1.0          1.0          0.0   \n",
       "4             0.0           0.0               0.0          0.0          0.0   \n",
       "\n",
       "   StreamingMovies  Contract  PaymentMethod  MonthlyCharges  TotalCharges  \\\n",
       "0              0.0       0.0            2.0           29.85         29.85   \n",
       "1              0.0       1.0            1.0           56.95       1889.50   \n",
       "2              0.0       0.0            1.0           53.85        108.15   \n",
       "3              0.0       1.0            0.0           42.30       1840.75   \n",
       "4              0.0       0.0            2.0           70.70        151.65   \n",
       "\n",
       "   Churn  HighChargesFlag  NumServices  \n",
       "0    0.0              0.0          1.0  \n",
       "1    0.0              0.0          2.0  \n",
       "2    1.0              0.0          2.0  \n",
       "3    0.0              0.0          3.0  \n",
       "4    1.0              1.0          0.0  "
      ]
     },
     "execution_count": 23,
     "metadata": {},
     "output_type": "execute_result"
    }
   ],
   "source": [
    "df.head()\n"
   ]
  },
  {
   "cell_type": "code",
   "execution_count": 24,
   "id": "b01634aa",
   "metadata": {},
   "outputs": [],
   "source": [
    "X=df.drop(columns=\"Churn\",axis=1)\n",
    "y=df[\"Churn\"]\n",
    "#print(y.head())"
   ]
  },
  {
   "cell_type": "code",
   "execution_count": 25,
   "id": "a76291fa",
   "metadata": {},
   "outputs": [],
   "source": [
    "X_train, X_test, y_train, y_test = train_test_split(X, y, test_size=0.2, stratify=y,random_state=42)\n",
    "\n",
    "\n",
    "#print(y_train.head())"
   ]
  },
  {
   "cell_type": "code",
   "execution_count": null,
   "id": "653806f7",
   "metadata": {},
   "outputs": [],
   "source": []
  },
  {
   "cell_type": "code",
   "execution_count": 26,
   "id": "be567b30",
   "metadata": {},
   "outputs": [
    {
     "data": {
      "text/html": [
       "<div>\n",
       "<style scoped>\n",
       "    .dataframe tbody tr th:only-of-type {\n",
       "        vertical-align: middle;\n",
       "    }\n",
       "\n",
       "    .dataframe tbody tr th {\n",
       "        vertical-align: top;\n",
       "    }\n",
       "\n",
       "    .dataframe thead th {\n",
       "        text-align: right;\n",
       "    }\n",
       "</style>\n",
       "<table border=\"1\" class=\"dataframe\">\n",
       "  <thead>\n",
       "    <tr style=\"text-align: right;\">\n",
       "      <th></th>\n",
       "      <th>SeniorCitizen</th>\n",
       "      <th>tenure</th>\n",
       "      <th>PhoneService</th>\n",
       "      <th>MultipleLines</th>\n",
       "      <th>InternetService</th>\n",
       "      <th>OnlineSecurity</th>\n",
       "      <th>OnlineBackup</th>\n",
       "      <th>DeviceProtection</th>\n",
       "      <th>TechSupport</th>\n",
       "      <th>StreamingTV</th>\n",
       "      <th>StreamingMovies</th>\n",
       "      <th>Contract</th>\n",
       "      <th>PaymentMethod</th>\n",
       "      <th>MonthlyCharges</th>\n",
       "      <th>TotalCharges</th>\n",
       "      <th>Churn</th>\n",
       "      <th>HighChargesFlag</th>\n",
       "      <th>NumServices</th>\n",
       "    </tr>\n",
       "  </thead>\n",
       "  <tbody>\n",
       "    <tr>\n",
       "      <th>0</th>\n",
       "      <td>0.0</td>\n",
       "      <td>1.0</td>\n",
       "      <td>0.0</td>\n",
       "      <td>0.0</td>\n",
       "      <td>1.0</td>\n",
       "      <td>0.0</td>\n",
       "      <td>1.0</td>\n",
       "      <td>0.0</td>\n",
       "      <td>0.0</td>\n",
       "      <td>0.0</td>\n",
       "      <td>0.0</td>\n",
       "      <td>0.0</td>\n",
       "      <td>2.0</td>\n",
       "      <td>29.85</td>\n",
       "      <td>29.85</td>\n",
       "      <td>0.0</td>\n",
       "      <td>0.0</td>\n",
       "      <td>1.0</td>\n",
       "    </tr>\n",
       "    <tr>\n",
       "      <th>1</th>\n",
       "      <td>0.0</td>\n",
       "      <td>34.0</td>\n",
       "      <td>1.0</td>\n",
       "      <td>0.0</td>\n",
       "      <td>1.0</td>\n",
       "      <td>1.0</td>\n",
       "      <td>0.0</td>\n",
       "      <td>1.0</td>\n",
       "      <td>0.0</td>\n",
       "      <td>0.0</td>\n",
       "      <td>0.0</td>\n",
       "      <td>1.0</td>\n",
       "      <td>1.0</td>\n",
       "      <td>56.95</td>\n",
       "      <td>1889.50</td>\n",
       "      <td>0.0</td>\n",
       "      <td>0.0</td>\n",
       "      <td>2.0</td>\n",
       "    </tr>\n",
       "    <tr>\n",
       "      <th>2</th>\n",
       "      <td>0.0</td>\n",
       "      <td>2.0</td>\n",
       "      <td>1.0</td>\n",
       "      <td>0.0</td>\n",
       "      <td>1.0</td>\n",
       "      <td>1.0</td>\n",
       "      <td>1.0</td>\n",
       "      <td>0.0</td>\n",
       "      <td>0.0</td>\n",
       "      <td>0.0</td>\n",
       "      <td>0.0</td>\n",
       "      <td>0.0</td>\n",
       "      <td>1.0</td>\n",
       "      <td>53.85</td>\n",
       "      <td>108.15</td>\n",
       "      <td>1.0</td>\n",
       "      <td>0.0</td>\n",
       "      <td>2.0</td>\n",
       "    </tr>\n",
       "    <tr>\n",
       "      <th>3</th>\n",
       "      <td>0.0</td>\n",
       "      <td>45.0</td>\n",
       "      <td>0.0</td>\n",
       "      <td>0.0</td>\n",
       "      <td>1.0</td>\n",
       "      <td>1.0</td>\n",
       "      <td>0.0</td>\n",
       "      <td>1.0</td>\n",
       "      <td>1.0</td>\n",
       "      <td>0.0</td>\n",
       "      <td>0.0</td>\n",
       "      <td>1.0</td>\n",
       "      <td>0.0</td>\n",
       "      <td>42.30</td>\n",
       "      <td>1840.75</td>\n",
       "      <td>0.0</td>\n",
       "      <td>0.0</td>\n",
       "      <td>3.0</td>\n",
       "    </tr>\n",
       "    <tr>\n",
       "      <th>4</th>\n",
       "      <td>0.0</td>\n",
       "      <td>2.0</td>\n",
       "      <td>1.0</td>\n",
       "      <td>0.0</td>\n",
       "      <td>2.0</td>\n",
       "      <td>0.0</td>\n",
       "      <td>0.0</td>\n",
       "      <td>0.0</td>\n",
       "      <td>0.0</td>\n",
       "      <td>0.0</td>\n",
       "      <td>0.0</td>\n",
       "      <td>0.0</td>\n",
       "      <td>2.0</td>\n",
       "      <td>70.70</td>\n",
       "      <td>151.65</td>\n",
       "      <td>1.0</td>\n",
       "      <td>1.0</td>\n",
       "      <td>0.0</td>\n",
       "    </tr>\n",
       "  </tbody>\n",
       "</table>\n",
       "</div>"
      ],
      "text/plain": [
       "   SeniorCitizen  tenure  PhoneService  MultipleLines  InternetService  \\\n",
       "0            0.0     1.0           0.0            0.0              1.0   \n",
       "1            0.0    34.0           1.0            0.0              1.0   \n",
       "2            0.0     2.0           1.0            0.0              1.0   \n",
       "3            0.0    45.0           0.0            0.0              1.0   \n",
       "4            0.0     2.0           1.0            0.0              2.0   \n",
       "\n",
       "   OnlineSecurity  OnlineBackup  DeviceProtection  TechSupport  StreamingTV  \\\n",
       "0             0.0           1.0               0.0          0.0          0.0   \n",
       "1             1.0           0.0               1.0          0.0          0.0   \n",
       "2             1.0           1.0               0.0          0.0          0.0   \n",
       "3             1.0           0.0               1.0          1.0          0.0   \n",
       "4             0.0           0.0               0.0          0.0          0.0   \n",
       "\n",
       "   StreamingMovies  Contract  PaymentMethod  MonthlyCharges  TotalCharges  \\\n",
       "0              0.0       0.0            2.0           29.85         29.85   \n",
       "1              0.0       1.0            1.0           56.95       1889.50   \n",
       "2              0.0       0.0            1.0           53.85        108.15   \n",
       "3              0.0       1.0            0.0           42.30       1840.75   \n",
       "4              0.0       0.0            2.0           70.70        151.65   \n",
       "\n",
       "   Churn  HighChargesFlag  NumServices  \n",
       "0    0.0              0.0          1.0  \n",
       "1    0.0              0.0          2.0  \n",
       "2    1.0              0.0          2.0  \n",
       "3    0.0              0.0          3.0  \n",
       "4    1.0              1.0          0.0  "
      ]
     },
     "execution_count": 26,
     "metadata": {},
     "output_type": "execute_result"
    }
   ],
   "source": [
    "df.head()"
   ]
  },
  {
   "cell_type": "code",
   "execution_count": 27,
   "id": "fc2d1fcf",
   "metadata": {},
   "outputs": [
    {
     "name": "stdout",
     "output_type": "stream",
     "text": [
      "SeniorCitizen       float64\n",
      "tenure              float64\n",
      "PhoneService        float64\n",
      "MultipleLines       float64\n",
      "InternetService     float64\n",
      "OnlineSecurity      float64\n",
      "OnlineBackup        float64\n",
      "DeviceProtection    float64\n",
      "TechSupport         float64\n",
      "StreamingTV         float64\n",
      "StreamingMovies     float64\n",
      "Contract            float64\n",
      "PaymentMethod       float64\n",
      "MonthlyCharges      float64\n",
      "TotalCharges        float64\n",
      "HighChargesFlag     float64\n",
      "NumServices         float64\n",
      "dtype: object\n",
      "<class 'pandas.core.frame.DataFrame'>\n",
      "Index: 5556 entries, 5006 to 1572\n",
      "Data columns (total 17 columns):\n",
      " #   Column            Non-Null Count  Dtype  \n",
      "---  ------            --------------  -----  \n",
      " 0   SeniorCitizen     5556 non-null   float64\n",
      " 1   tenure            5556 non-null   float64\n",
      " 2   PhoneService      5556 non-null   float64\n",
      " 3   MultipleLines     5556 non-null   float64\n",
      " 4   InternetService   5556 non-null   float64\n",
      " 5   OnlineSecurity    5556 non-null   float64\n",
      " 6   OnlineBackup      5556 non-null   float64\n",
      " 7   DeviceProtection  5556 non-null   float64\n",
      " 8   TechSupport       5556 non-null   float64\n",
      " 9   StreamingTV       5556 non-null   float64\n",
      " 10  StreamingMovies   5556 non-null   float64\n",
      " 11  Contract          5556 non-null   float64\n",
      " 12  PaymentMethod     5556 non-null   float64\n",
      " 13  MonthlyCharges    5556 non-null   float64\n",
      " 14  TotalCharges      5556 non-null   float64\n",
      " 15  HighChargesFlag   5556 non-null   float64\n",
      " 16  NumServices       5556 non-null   float64\n",
      "dtypes: float64(17)\n",
      "memory usage: 781.3 KB\n"
     ]
    }
   ],
   "source": [
    "print(X_train.dtypes)\n",
    "X_train.info()\n",
    "\n"
   ]
  },
  {
   "cell_type": "code",
   "execution_count": 28,
   "id": "64a1fd00",
   "metadata": {},
   "outputs": [
    {
     "name": "stdout",
     "output_type": "stream",
     "text": [
      "Churn\n",
      "1.0    4099\n",
      "0.0    4099\n",
      "Name: count, dtype: int64\n"
     ]
    }
   ],
   "source": [
    "from imblearn.over_sampling import SMOTE\n",
    "\n",
    "smote = SMOTE(random_state=42)\n",
    "\n",
    "\n",
    "X_train_resampled, y_train_resampled = smote.fit_resample(X_train, y_train)\n",
    "print(y_train_resampled.value_counts())"
   ]
  },
  {
   "cell_type": "code",
   "execution_count": 29,
   "id": "7c2ceb2b",
   "metadata": {},
   "outputs": [
    {
     "name": "stdout",
     "output_type": "stream",
     "text": [
      "Train Accuracy: 0.7739692607953159\n",
      "Test Accuracy: 0.737410071942446\n",
      "Confusion Matrix:\n",
      " [[724 301]\n",
      " [ 64 301]]\n",
      "Classification Report:\n",
      "               precision    recall  f1-score   support\n",
      "\n",
      "         0.0       0.92      0.71      0.80      1025\n",
      "         1.0       0.50      0.82      0.62       365\n",
      "\n",
      "    accuracy                           0.74      1390\n",
      "   macro avg       0.71      0.77      0.71      1390\n",
      "weighted avg       0.81      0.74      0.75      1390\n",
      "\n"
     ]
    }
   ],
   "source": [
    "from sklearn.linear_model import LogisticRegression\n",
    "from sklearn.preprocessing import StandardScaler\n",
    "from sklearn.metrics import accuracy_score, confusion_matrix, classification_report\n",
    "\n",
    "scaler = StandardScaler()\n",
    "\n",
    "\n",
    "X_train_scaled = scaler.fit_transform(X_train_resampled)\n",
    "X_test_scaled = scaler.transform(X_test)  \n",
    "\n",
    "\n",
    "model1 = LogisticRegression(random_state=42, max_iter=1000)  \n",
    "model1.fit(X_train_scaled, y_train_resampled)\n",
    "\n",
    "\n",
    "y_train_pred = model1.predict(X_train_scaled)\n",
    "y_test_pred = model1.predict(X_test_scaled)\n",
    "\n",
    "print(\"Train Accuracy:\", accuracy_score(y_train_resampled, y_train_pred))\n",
    "print(\"Test Accuracy:\", accuracy_score(y_test, y_test_pred))\n",
    "\n",
    "\n",
    "print(\"Confusion Matrix:\\n\", confusion_matrix(y_test, y_test_pred))\n",
    "\n",
    "\n",
    "print(\"Classification Report:\\n\", classification_report(y_test, y_test_pred))\n"
   ]
  },
  {
   "cell_type": "code",
   "execution_count": 30,
   "id": "a0e98a9f",
   "metadata": {},
   "outputs": [
    {
     "name": "stderr",
     "output_type": "stream",
     "text": [
      "c:\\Users\\MANTHAN\\AppData\\Local\\Programs\\Python\\Python313\\Lib\\site-packages\\sklearn\\linear_model\\_logistic.py:1221: UserWarning: l1_ratio parameter is only used when penalty is 'elasticnet'. Got (penalty=l2)\n",
      "  warnings.warn(\n"
     ]
    },
    {
     "name": "stdout",
     "output_type": "stream",
     "text": [
      "Train Accuracy: 0.7748231275920956\n",
      "Test Accuracy: 0.737410071942446\n",
      "Confusion Matrix:\n",
      " [[724 301]\n",
      " [ 64 301]]\n",
      "Classification Report:\n",
      "               precision    recall  f1-score   support\n",
      "\n",
      "         0.0       0.92      0.71      0.80      1025\n",
      "         1.0       0.50      0.82      0.62       365\n",
      "\n",
      "    accuracy                           0.74      1390\n",
      "   macro avg       0.71      0.77      0.71      1390\n",
      "weighted avg       0.81      0.74      0.75      1390\n",
      "\n"
     ]
    }
   ],
   "source": [
    "param_grid = {\n",
    "    'penalty': ['l1', 'l2',None],   # Type of regularization\n",
    "    'C': [0.01, 0.1, 1, 10, 100],                  # Inverse of regularization strength\n",
    "    'solver': ['saga'],      # Optimization solvers\n",
    "    'l1_ratio': [0, 0.5, 1]                        # Only used if penalty='elasticnet'\n",
    "}\n",
    "\n",
    "from sklearn.model_selection import GridSearchCV\n",
    "\n",
    "model2=GridSearchCV(model1,param_grid,cv=5,scoring='accuracy',n_jobs=-1)\n",
    "\n",
    "\n",
    "model2.fit(X_train_scaled, y_train_resampled)\n",
    "\n",
    "y_train_pred2 = model2.predict(X_train_scaled)\n",
    "y_test_pred2 = model2.predict(X_test_scaled)\n",
    "print(\"Train Accuracy:\", accuracy_score(y_train_resampled, y_train_pred2))\n",
    "print(\"Test Accuracy:\", accuracy_score(y_test, y_test_pred2))\n",
    "\n",
    "print(\"Confusion Matrix:\\n\", confusion_matrix(y_test, y_test_pred))\n",
    "\n",
    "\n",
    "print(\"Classification Report:\\n\", classification_report(y_test, y_test_pred))\n",
    "\n"
   ]
  },
  {
   "cell_type": "code",
   "execution_count": 31,
   "id": "a60e4062",
   "metadata": {},
   "outputs": [
    {
     "name": "stdout",
     "output_type": "stream",
     "text": [
      "Train Accuracy: 0.997682361551598\n",
      "Test Accuracy: 0.7848920863309352\n",
      "Confusion Matrix:\n",
      " [[891 134]\n",
      " [165 200]]\n",
      "Classification Report:\n",
      "               precision    recall  f1-score   support\n",
      "\n",
      "         0.0       0.84      0.87      0.86      1025\n",
      "         1.0       0.60      0.55      0.57       365\n",
      "\n",
      "    accuracy                           0.78      1390\n",
      "   macro avg       0.72      0.71      0.71      1390\n",
      "weighted avg       0.78      0.78      0.78      1390\n",
      "\n"
     ]
    }
   ],
   "source": [
    "\n",
    "from sklearn.ensemble import RandomForestClassifier\n",
    "\n",
    "model3 = RandomForestClassifier(n_estimators=200, random_state=42)\n",
    "model3.fit(X_train_scaled, y_train_resampled)\n",
    "\n",
    "y_testpred_model3 = model3.predict(X_test_scaled)\n",
    "y_trainpred_model3 = model3.predict(X_train_scaled)\n",
    "\n",
    "print(\"Train Accuracy:\", accuracy_score(y_train_resampled, y_trainpred_model3))\n",
    "print(\"Test Accuracy:\", accuracy_score(y_test, y_testpred_model3))\n",
    "\n",
    "\n",
    "print(\"Confusion Matrix:\\n\", confusion_matrix(y_test, y_testpred_model3))\n",
    "\n",
    "\n",
    "print(\"Classification Report:\\n\", classification_report(y_test, y_testpred_model3))\n"
   ]
  },
  {
   "cell_type": "code",
   "execution_count": 32,
   "id": "f76b237e",
   "metadata": {},
   "outputs": [
    {
     "name": "stdout",
     "output_type": "stream",
     "text": [
      "Train Accuracy: 0.997682361551598\n",
      "Test Accuracy: 0.7848920863309352\n",
      "Confusion Matrix:\n",
      " [[891 134]\n",
      " [165 200]]\n",
      "Classification Report:\n",
      "               precision    recall  f1-score   support\n",
      "\n",
      "         0.0       0.84      0.87      0.86      1025\n",
      "         1.0       0.60      0.55      0.57       365\n",
      "\n",
      "    accuracy                           0.78      1390\n",
      "   macro avg       0.72      0.71      0.71      1390\n",
      "weighted avg       0.78      0.78      0.78      1390\n",
      "\n"
     ]
    }
   ],
   "source": [
    "param1_grid = [{\n",
    "   \n",
    "    'criterion': ['entropy', 'gini'],\n",
    "    'min_samples_split': [5, 10, 15],\n",
    "    'min_samples_leaf': [1, 2, 4],\n",
    "    'max_depth': [10, 20, 30],\n",
    "    'class_weight': ['balanced']\n",
    "}]\n",
    "\n",
    "model4=GridSearchCV(model3,param1_grid,cv=5,scoring='accuracy',n_jobs=-1)\n",
    "\n",
    "model4.fit(X_train_scaled, y_train_resampled)\n",
    "\n",
    "y_testpred_model4 = model3.predict(X_test_scaled)\n",
    "y_trainpred_model4 = model3.predict(X_train_scaled)\n",
    "\n",
    "print(\"Train Accuracy:\", accuracy_score(y_train_resampled, y_trainpred_model4))\n",
    "print(\"Test Accuracy:\", accuracy_score(y_test, y_testpred_model4))\n",
    "\n",
    "\n",
    "print(\"Confusion Matrix:\\n\", confusion_matrix(y_test, y_testpred_model4))\n",
    "\n",
    "\n",
    "print(\"Classification Report:\\n\", classification_report(y_test, y_testpred_model4))"
   ]
  },
  {
   "cell_type": "code",
   "execution_count": 33,
   "id": "aea9d37f",
   "metadata": {},
   "outputs": [
    {
     "name": "stdout",
     "output_type": "stream",
     "text": [
      "Train Accuracy: 0.8542\n",
      "Test Accuracy: 0.7885\n",
      "              precision    recall  f1-score   support\n",
      "\n",
      "         0.0       0.89      0.82      0.85      1025\n",
      "         1.0       0.58      0.70      0.64       365\n",
      "\n",
      "    accuracy                           0.79      1390\n",
      "   macro avg       0.73      0.76      0.74      1390\n",
      "weighted avg       0.81      0.79      0.79      1390\n",
      "\n"
     ]
    }
   ],
   "source": [
    "from sklearn.ensemble import AdaBoostClassifier\n",
    "from sklearn.tree import DecisionTreeClassifier\n",
    "\n",
    "base = DecisionTreeClassifier(max_depth=1)\n",
    "\n",
    "ada = AdaBoostClassifier(\n",
    "    estimator=base,\n",
    "    n_estimators=100,   \n",
    "    learning_rate=1.0, \n",
    "    random_state=42\n",
    ")\n",
    "\n",
    "ada.fit(X_train_resampled, y_train_resampled)\n",
    "\n",
    "y_predada_train = ada.predict(X_train_resampled)\n",
    "y_predada_test = ada.predict(X_test)\n",
    "\n",
    "train_acc = accuracy_score(y_train_resampled, y_predada_train)\n",
    "test_acc = accuracy_score(y_test, y_predada_test)\n",
    "\n",
    "\n",
    "print(f\"Train Accuracy: {train_acc:.4f}\")\n",
    "print(f\"Test Accuracy: {test_acc:.4f}\")\n",
    "print(classification_report(y_test,y_predada_test))\n",
    "\n"
   ]
  },
  {
   "cell_type": "code",
   "execution_count": 34,
   "id": "b47daf34",
   "metadata": {},
   "outputs": [
    {
     "name": "stdout",
     "output_type": "stream",
     "text": [
      "Train Accuracy: 0.7702\n",
      "Test Accuracy: 0.7381\n",
      "              precision    recall  f1-score   support\n",
      "\n",
      "         0.0       0.92      0.71      0.80      1025\n",
      "         1.0       0.50      0.83      0.62       365\n",
      "\n",
      "    accuracy                           0.74      1390\n",
      "   macro avg       0.71      0.77      0.71      1390\n",
      "weighted avg       0.81      0.74      0.75      1390\n",
      "\n"
     ]
    }
   ],
   "source": [
    "from sklearn.discriminant_analysis import LinearDiscriminantAnalysis\n",
    "\n",
    "lda = LinearDiscriminantAnalysis()\n",
    "\n",
    "\n",
    "lda.fit(X_train_resampled, y_train_resampled)\n",
    "\n",
    "y_predlda_train = lda.predict(X_train_resampled)\n",
    "y_predlda_test = lda.predict(X_test)\n",
    "\n",
    "train_lda = accuracy_score(y_train_resampled, y_predlda_train)\n",
    "test_lda = accuracy_score(y_test, y_predlda_test)\n",
    "\n",
    "print(f\"Train Accuracy: {train_lda:.4f}\")\n",
    "print(f\"Test Accuracy: {test_lda:.4f}\")\n",
    "print(classification_report(y_test,y_predlda_test))"
   ]
  }
 ],
 "metadata": {
  "kernelspec": {
   "display_name": "Python 3",
   "language": "python",
   "name": "python3"
  },
  "language_info": {
   "codemirror_mode": {
    "name": "ipython",
    "version": 3
   },
   "file_extension": ".py",
   "mimetype": "text/x-python",
   "name": "python",
   "nbconvert_exporter": "python",
   "pygments_lexer": "ipython3",
   "version": "3.13.7"
  }
 },
 "nbformat": 4,
 "nbformat_minor": 5
}
